{
 "cells": [
  {
   "cell_type": "markdown",
   "metadata": {},
   "source": [
    "### Import the Libraries"
   ]
  },
  {
   "cell_type": "code",
   "execution_count": 1,
   "metadata": {},
   "outputs": [
    {
     "name": "stderr",
     "output_type": "stream",
     "text": [
      "Using TensorFlow backend.\n"
     ]
    }
   ],
   "source": [
    "import numpy as np\n",
    "import os\n",
    "import cv2\n",
    "import matplotlib.pyplot as plt\n",
    "from sklearn.model_selection import train_test_split\n",
    "from sklearn.metrics import confusion_matrix\n",
    "from keras import backend as K\n",
    "from keras.utils import to_categorical\n",
    "from keras.models import Sequential\n",
    "from keras.layers import Conv2D, MaxPooling2D, Flatten, Dense, Dropout\n",
    "from keras.optimizers import Adam\n",
    "from keras.callbacks import EarlyStopping, LearningRateScheduler\n",
    "from keras.regularizers import l2\n",
    "import seaborn as sns"
   ]
  },
  {
   "cell_type": "markdown",
   "metadata": {},
   "source": [
    "### Directories"
   ]
  },
  {
   "cell_type": "code",
   "execution_count": 2,
   "metadata": {},
   "outputs": [],
   "source": [
    "train_directory = 'D:\\Data for machine learning\\Sartorius cell instance segmentation\\LIVECell_dataset_2021\\images\\livecell_train_val_images'\n",
    "test_directory = 'D:\\Data for machine learning\\Sartorius cell instance segmentation\\LIVECell_dataset_2021\\images\\livecell_test_images'"
   ]
  },
  {
   "cell_type": "markdown",
   "metadata": {},
   "source": [
    "### Image Parameters"
   ]
  },
  {
   "cell_type": "code",
   "execution_count": 3,
   "metadata": {},
   "outputs": [],
   "source": [
    "target_size = (100, 100)"
   ]
  },
  {
   "cell_type": "markdown",
   "metadata": {},
   "source": [
    "### Data Collection"
   ]
  },
  {
   "cell_type": "code",
   "execution_count": 4,
   "metadata": {},
   "outputs": [],
   "source": [
    "img_dataset, img_labels = [], []\n",
    "\n",
    "def load_images(directory, img_dataset, img_labels):\n",
    "    for root, _, files in os.walk(directory):\n",
    "        for filename in files:\n",
    "            if filename.endswith(\".tif\"):\n",
    "                image_path = os.path.join(root, filename)\n",
    "                image = cv2.imread(image_path, cv2.IMREAD_UNCHANGED)\n",
    "                image = cv2.resize(image, target_size)\n",
    "                label = os.path.basename(os.path.dirname(image_path))\n",
    "                img_dataset.append(image.astype('float32'))\n",
    "                img_labels.append(label)"
   ]
  },
  {
   "cell_type": "markdown",
   "metadata": {},
   "source": [
    "### Load Images"
   ]
  },
  {
   "cell_type": "code",
   "execution_count": 5,
   "metadata": {},
   "outputs": [],
   "source": [
    "load_images(train_directory, img_dataset, img_labels)\n",
    "load_images(test_directory, img_dataset, img_labels)"
   ]
  },
  {
   "cell_type": "markdown",
   "metadata": {},
   "source": [
    "### Convert to numpy arrays"
   ]
  },
  {
   "cell_type": "code",
   "execution_count": 6,
   "metadata": {},
   "outputs": [],
   "source": [
    "X, L = np.asarray(img_dataset), np.asarray(img_labels)"
   ]
  },
  {
   "cell_type": "markdown",
   "metadata": {},
   "source": [
    "### Encoding"
   ]
  },
  {
   "cell_type": "code",
   "execution_count": 7,
   "metadata": {},
   "outputs": [],
   "source": [
    "class_labels = ['A172', 'BT474', 'BV2', 'Huh7', 'MCF7', 'RatC6', 'SHSY5Y', 'SkBr3', 'SKOV3']\n",
    "label_map = {class_label: i for i, class_label in enumerate(class_labels)}\n",
    "L = to_categorical(np.vectorize(label_map.get)(L), num_classes=len(class_labels))"
   ]
  },
  {
   "cell_type": "markdown",
   "metadata": {},
   "source": [
    "### Image Data Format Handling"
   ]
  },
  {
   "cell_type": "code",
   "execution_count": 8,
   "metadata": {},
   "outputs": [],
   "source": [
    "if K.image_data_format() == 'channels_first':\n",
    "    X = X.reshape(X.shape[0], 1, X.shape[1], X.shape[2])\n",
    "    input_shape = (1, X.shape[1], X.shape[2])\n",
    "else:\n",
    "    X = X.reshape(X.shape[0], X.shape[1], X.shape[2], 1)\n",
    "    input_shape = (X.shape[1], X.shape[2], 1)"
   ]
  },
  {
   "cell_type": "markdown",
   "metadata": {},
   "source": [
    "### Data Preprocessing/Normalization"
   ]
  },
  {
   "cell_type": "code",
   "execution_count": 9,
   "metadata": {},
   "outputs": [],
   "source": [
    "X = (X - X.mean()) / (X.std())"
   ]
  },
  {
   "cell_type": "markdown",
   "metadata": {},
   "source": [
    "### Data Split"
   ]
  },
  {
   "cell_type": "code",
   "execution_count": 10,
   "metadata": {},
   "outputs": [],
   "source": [
    "X_train, X_test, L_train, L_test = train_test_split(X, L, test_size=0.1, random_state=4)"
   ]
  },
  {
   "cell_type": "markdown",
   "metadata": {},
   "source": [
    "### Model Definition"
   ]
  },
  {
   "cell_type": "code",
   "execution_count": 11,
   "metadata": {},
   "outputs": [],
   "source": [
    "model = Sequential([\n",
    "    Conv2D(32, (3, 3), input_shape=input_shape, activation='relu', padding='same'),\n",
    "    Conv2D(32, (3, 3), activation='relu', padding='same'),\n",
    "    MaxPooling2D((2, 2)),\n",
    "    Conv2D(64, (3, 3), activation='relu', padding='same'),\n",
    "    Conv2D(64, (3, 3), activation='relu', padding='same'),\n",
    "    MaxPooling2D((2, 2)),\n",
    "    Conv2D(128, (3, 3), activation='relu', padding='same'),\n",
    "    Conv2D(128, (3, 3), activation='relu', padding='same'),\n",
    "    MaxPooling2D((2, 2)),\n",
    "    Flatten(),\n",
    "    Dense(256, activation='relu', kernel_regularizer=l2(0.001)),\n",
    "    Dropout(0.5),\n",
    "    Dense(len(class_labels), activation='softmax')\n",
    "])"
   ]
  },
  {
   "cell_type": "markdown",
   "metadata": {},
   "source": [
    "### Model Compilation"
   ]
  },
  {
   "cell_type": "code",
   "execution_count": 12,
   "metadata": {},
   "outputs": [],
   "source": [
    "model.compile(Adam(lr=0.001), loss='categorical_crossentropy', metrics=['accuracy'])"
   ]
  },
  {
   "cell_type": "markdown",
   "metadata": {},
   "source": [
    "### Model Summary"
   ]
  },
  {
   "cell_type": "code",
   "execution_count": 13,
   "metadata": {},
   "outputs": [
    {
     "name": "stdout",
     "output_type": "stream",
     "text": [
      "Model: \"sequential_1\"\n",
      "_________________________________________________________________\n",
      "Layer (type)                 Output Shape              Param #   \n",
      "=================================================================\n",
      "conv2d_1 (Conv2D)            (None, 100, 100, 32)      320       \n",
      "_________________________________________________________________\n",
      "conv2d_2 (Conv2D)            (None, 100, 100, 32)      9248      \n",
      "_________________________________________________________________\n",
      "max_pooling2d_1 (MaxPooling2 (None, 50, 50, 32)        0         \n",
      "_________________________________________________________________\n",
      "conv2d_3 (Conv2D)            (None, 50, 50, 64)        18496     \n",
      "_________________________________________________________________\n",
      "conv2d_4 (Conv2D)            (None, 50, 50, 64)        36928     \n",
      "_________________________________________________________________\n",
      "max_pooling2d_2 (MaxPooling2 (None, 25, 25, 64)        0         \n",
      "_________________________________________________________________\n",
      "conv2d_5 (Conv2D)            (None, 25, 25, 128)       73856     \n",
      "_________________________________________________________________\n",
      "conv2d_6 (Conv2D)            (None, 25, 25, 128)       147584    \n",
      "_________________________________________________________________\n",
      "max_pooling2d_3 (MaxPooling2 (None, 12, 12, 128)       0         \n",
      "_________________________________________________________________\n",
      "flatten_1 (Flatten)          (None, 18432)             0         \n",
      "_________________________________________________________________\n",
      "dense_1 (Dense)              (None, 256)               4718848   \n",
      "_________________________________________________________________\n",
      "dropout_1 (Dropout)          (None, 256)               0         \n",
      "_________________________________________________________________\n",
      "dense_2 (Dense)              (None, 9)                 2313      \n",
      "=================================================================\n",
      "Total params: 5,007,593\n",
      "Trainable params: 5,007,593\n",
      "Non-trainable params: 0\n",
      "_________________________________________________________________\n"
     ]
    }
   ],
   "source": [
    "model.summary()"
   ]
  },
  {
   "cell_type": "markdown",
   "metadata": {},
   "source": [
    "### Callbacks"
   ]
  },
  {
   "cell_type": "code",
   "execution_count": 14,
   "metadata": {},
   "outputs": [],
   "source": [
    "early_stopping = EarlyStopping(monitor='val_loss', patience=5, restore_best_weights=True)\n",
    "\n",
    "def lr_scheduler(epoch, lr):\n",
    "    if epoch % 10 == 0 and epoch != 0:\n",
    "        lr *= 0.9\n",
    "    return lr\n",
    "\n",
    "lr_callback = LearningRateScheduler(lr_scheduler)"
   ]
  },
  {
   "cell_type": "markdown",
   "metadata": {},
   "source": [
    "### Model Training"
   ]
  },
  {
   "cell_type": "code",
   "execution_count": 15,
   "metadata": {},
   "outputs": [
    {
     "name": "stdout",
     "output_type": "stream",
     "text": [
      "Train on 4736 samples, validate on 527 samples\n",
      "Epoch 1/50\n",
      "4736/4736 [==============================] - 34s 7ms/step - loss: 2.0619 - accuracy: 0.2546 - val_loss: 1.4459 - val_accuracy: 0.5806\n",
      "Epoch 2/50\n",
      "4736/4736 [==============================] - 28s 6ms/step - loss: 1.2803 - accuracy: 0.5760 - val_loss: 0.8354 - val_accuracy: 0.7780\n",
      "Epoch 3/50\n",
      "4736/4736 [==============================] - 29s 6ms/step - loss: 0.8417 - accuracy: 0.7610 - val_loss: 0.6802 - val_accuracy: 0.8178\n",
      "Epoch 4/50\n",
      "4736/4736 [==============================] - 29s 6ms/step - loss: 0.6312 - accuracy: 0.8461 - val_loss: 0.5113 - val_accuracy: 0.9032\n",
      "Epoch 5/50\n",
      "4736/4736 [==============================] - 29s 6ms/step - loss: 0.5412 - accuracy: 0.8775 - val_loss: 0.7105 - val_accuracy: 0.8065\n",
      "Epoch 6/50\n",
      "4736/4736 [==============================] - 29s 6ms/step - loss: 0.5146 - accuracy: 0.8925 - val_loss: 0.4287 - val_accuracy: 0.9184\n",
      "Epoch 7/50\n",
      "4736/4736 [==============================] - 29s 6ms/step - loss: 0.4089 - accuracy: 0.9352 - val_loss: 0.6297 - val_accuracy: 0.8691\n",
      "Epoch 8/50\n",
      "4736/4736 [==============================] - 29s 6ms/step - loss: 0.4090 - accuracy: 0.9301 - val_loss: 0.4039 - val_accuracy: 0.9374\n",
      "Epoch 9/50\n",
      "4736/4736 [==============================] - 29s 6ms/step - loss: 0.3279 - accuracy: 0.9561 - val_loss: 0.3622 - val_accuracy: 0.9488\n",
      "Epoch 10/50\n",
      "4736/4736 [==============================] - 29s 6ms/step - loss: 0.3522 - accuracy: 0.9459 - val_loss: 0.3918 - val_accuracy: 0.9355\n",
      "Epoch 11/50\n",
      "4736/4736 [==============================] - 29s 6ms/step - loss: 0.3148 - accuracy: 0.9611 - val_loss: 0.3621 - val_accuracy: 0.9469\n",
      "Epoch 12/50\n",
      "4736/4736 [==============================] - 29s 6ms/step - loss: 0.3092 - accuracy: 0.9641 - val_loss: 0.3700 - val_accuracy: 0.9450\n",
      "Epoch 13/50\n",
      "4736/4736 [==============================] - 29s 6ms/step - loss: 0.2865 - accuracy: 0.9681 - val_loss: 0.3686 - val_accuracy: 0.9431\n",
      "Epoch 14/50\n",
      "4736/4736 [==============================] - 29s 6ms/step - loss: 0.2954 - accuracy: 0.9643 - val_loss: 0.3720 - val_accuracy: 0.9450\n",
      "Epoch 15/50\n",
      "4736/4736 [==============================] - 29s 6ms/step - loss: 0.2715 - accuracy: 0.9713 - val_loss: 0.3578 - val_accuracy: 0.9450\n",
      "Epoch 16/50\n",
      "4736/4736 [==============================] - 29s 6ms/step - loss: 0.2850 - accuracy: 0.9662 - val_loss: 0.3278 - val_accuracy: 0.9620\n",
      "Epoch 17/50\n",
      "4736/4736 [==============================] - 29s 6ms/step - loss: 0.2653 - accuracy: 0.9738 - val_loss: 0.3962 - val_accuracy: 0.9469\n",
      "Epoch 18/50\n",
      "4736/4736 [==============================] - 29s 6ms/step - loss: 0.2636 - accuracy: 0.9747 - val_loss: 0.3273 - val_accuracy: 0.9507\n",
      "Epoch 19/50\n",
      "4736/4736 [==============================] - 29s 6ms/step - loss: 0.3003 - accuracy: 0.9675 - val_loss: 0.4261 - val_accuracy: 0.9412\n",
      "Epoch 20/50\n",
      "4736/4736 [==============================] - 29s 6ms/step - loss: 0.2657 - accuracy: 0.9799 - val_loss: 0.4083 - val_accuracy: 0.9355\n",
      "Epoch 21/50\n",
      "4736/4736 [==============================] - 29s 6ms/step - loss: 0.2447 - accuracy: 0.9816 - val_loss: 0.4236 - val_accuracy: 0.9431\n",
      "Epoch 22/50\n",
      "4736/4736 [==============================] - 29s 6ms/step - loss: 0.2485 - accuracy: 0.9757 - val_loss: 0.5551 - val_accuracy: 0.8918\n",
      "Epoch 23/50\n",
      "4736/4736 [==============================] - 29s 6ms/step - loss: 0.2796 - accuracy: 0.9694 - val_loss: 0.3100 - val_accuracy: 0.9526\n",
      "Epoch 24/50\n",
      "4736/4736 [==============================] - 29s 6ms/step - loss: 0.2142 - accuracy: 0.9873 - val_loss: 0.2871 - val_accuracy: 0.9620\n",
      "Epoch 25/50\n",
      "4736/4736 [==============================] - 29s 6ms/step - loss: 0.1957 - accuracy: 0.9878 - val_loss: 0.3731 - val_accuracy: 0.9488\n",
      "Epoch 26/50\n",
      "4736/4736 [==============================] - 29s 6ms/step - loss: 0.1969 - accuracy: 0.9842 - val_loss: 0.3570 - val_accuracy: 0.9450\n",
      "Epoch 27/50\n",
      "4736/4736 [==============================] - 29s 6ms/step - loss: 0.1997 - accuracy: 0.9827 - val_loss: 0.2890 - val_accuracy: 0.9526\n",
      "Epoch 28/50\n",
      "4736/4736 [==============================] - 29s 6ms/step - loss: 0.2319 - accuracy: 0.9734 - val_loss: 0.2896 - val_accuracy: 0.9564\n",
      "Epoch 29/50\n",
      "4736/4736 [==============================] - 29s 6ms/step - loss: 0.2210 - accuracy: 0.9829 - val_loss: 0.3427 - val_accuracy: 0.9583\n"
     ]
    }
   ],
   "source": [
    "history = model.fit(X_train, L_train, epochs=50, batch_size=64, validation_split=0.1, callbacks=[early_stopping, lr_callback])"
   ]
  },
  {
   "cell_type": "markdown",
   "metadata": {},
   "source": [
    "### Model Evaluation"
   ]
  },
  {
   "cell_type": "code",
   "execution_count": 16,
   "metadata": {},
   "outputs": [
    {
     "name": "stdout",
     "output_type": "stream",
     "text": [
      "585/585 [==============================] - 2s 3ms/step\n",
      "Test Loss: 0.27984328374393985\n",
      "Test Accuracy: 0.9692307710647583\n"
     ]
    }
   ],
   "source": [
    "test_loss, test_accuracy = model.evaluate(X_test, L_test, batch_size=64)\n",
    "print(\"Test Loss:\", test_loss)\n",
    "print(\"Test Accuracy:\", test_accuracy)"
   ]
  },
  {
   "cell_type": "markdown",
   "metadata": {},
   "source": [
    "### Plot Loss"
   ]
  },
  {
   "cell_type": "code",
   "execution_count": 22,
   "metadata": {},
   "outputs": [
    {
     "data": {
      "image/png": "[encoded data removed]",
      "text/plain": [
       "<Figure size 432x288 with 1 Axes>"
      ]
     },
     "metadata": {
      "needs_background": "light"
     },
     "output_type": "display_data"
    }
   ],
   "source": [
    "plt.plot(history.history['loss'], label='Train')\n",
    "plt.plot(history.history['val_loss'], label='Validation')\n",
    "plt.title('Training Loss')\n",
    "plt.xlabel('Epochs')\n",
    "plt.ylabel('Loss')\n",
    "plt.legend()\n",
    "plt.tight_layout()\n",
    "plt.savefig('loss_plot.png', dpi=300, facecolor='white')\n",
    "plt.show()"
   ]
  },
  {
   "cell_type": "markdown",
   "metadata": {},
   "source": [
    "### Plot Accuracy"
   ]
  },
  {
   "cell_type": "code",
   "execution_count": 23,
   "metadata": {},
   "outputs": [
    {
     "data": {
      "image/png": "[encoded data removed]",
      "text/plain": [
       "<Figure size 432x288 with 1 Axes>"
      ]
     },
     "metadata": {
      "needs_background": "light"
     },
     "output_type": "display_data"
    }
   ],
   "source": [
    "plt.plot(history.history['accuracy'], label='Train')\n",
    "plt.plot(history.history['val_accuracy'], label='Validation')\n",
    "plt.title('Training Accuracy')\n",
    "plt.xlabel('Epochs')\n",
    "plt.ylabel('Accuracy')\n",
    "plt.legend()\n",
    "plt.tight_layout()\n",
    "plt.savefig('accuracy_plot.png', dpi=300, facecolor='white')"
   ]
  },
  {
   "cell_type": "markdown",
   "metadata": {},
   "source": [
    "### Confusion Matrix"
   ]
  },
  {
   "cell_type": "code",
   "execution_count": 24,
   "metadata": {},
   "outputs": [
    {
     "data": {
      "image/png": "[encoded data removed]",
      "text/plain": [
       "<Figure size 720x576 with 2 Axes>"
      ]
     },
     "metadata": {
      "needs_background": "light"
     },
     "output_type": "display_data"
    }
   ],
   "source": [
    "def plot_confusion_matrix(y_true, y_pred, class_names, test_loss, test_accuracy):\n",
    "    cm = confusion_matrix(y_true, y_pred)\n",
    "    cm_normalized = cm.astype('float') / cm.sum(axis=1)[:, np.newaxis]\n",
    "    plt.figure(figsize=(10, 8))\n",
    "    sns.heatmap(cm_normalized, annot=True, cmap='Purples', xticklabels=class_names, yticklabels=class_names)\n",
    "    plt.title('Confusion Matrix\\nTest Loss: {:.4f}, Test Accuracy: {:.4f}'.format(test_loss, test_accuracy))\n",
    "    plt.xlabel('Predicted Label')\n",
    "    plt.ylabel('True Label')\n",
    "    plt.xticks(rotation=45)\n",
    "    plt.yticks(rotation=0)\n",
    "    plt.tight_layout()\n",
    "    plt.savefig('confusion_matrix.png', dpi=300, facecolor='white')\n",
    "\n",
    "# Predicting classes for test data\n",
    "predictions = model.predict(X_test)\n",
    "y_true = np.argmax(L_test, axis=1)\n",
    "y_pred = np.argmax(predictions, axis=1)\n",
    "\n",
    "# Plotting Confusion Matrix\n",
    "plot_confusion_matrix(y_true, y_pred, class_labels, test_loss, test_accuracy)"
   ]
  },
  {
   "cell_type": "markdown",
   "metadata": {},
   "source": [
    "### Saving the Trained Model"
   ]
  },
  {
   "cell_type": "code",
   "execution_count": 25,
   "metadata": {},
   "outputs": [
    {
     "name": "stdout",
     "output_type": "stream",
     "text": [
      "Model saved successfully to the script's directory ;)!\n"
     ]
    }
   ],
   "source": [
    "model_json = model.to_json()\n",
    "json_file = open(\"sartorius_9classes_model.json\", \"w\")\n",
    "json_file.write(model_json)   \n",
    "model.save_weights(\"sartorius_9classes_model_weights.h5\")\n",
    "json_file.close()\n",
    "\n",
    "print(\"Model saved successfully to the script's directory ;)!\")"
   ]
  }
 ],
 "metadata": {
  "kernelspec": {
   "display_name": "tf",
   "language": "python",
   "name": "python3"
  },
  "language_info": {
   "codemirror_mode": {
    "name": "ipython",
    "version": 3
   },
   "file_extension": ".py",
   "mimetype": "text/x-python",
   "name": "python",
   "nbconvert_exporter": "python",
   "pygments_lexer": "ipython3",
   "version": "3.6.15"
  }
 },
 "nbformat": 4,
 "nbformat_minor": 2
}
